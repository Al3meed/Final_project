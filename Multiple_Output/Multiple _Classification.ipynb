{
 "cells": [
  {
   "cell_type": "markdown",
   "id": "formal-disaster",
   "metadata": {},
   "source": [
    "# Skin Cancer Classification"
   ]
  },
  {
   "cell_type": "markdown",
   "id": "removable-proceeding",
   "metadata": {},
   "source": [
    "## Introduction "
   ]
  },
  {
   "cell_type": "markdown",
   "id": "adequate-treatment",
   "metadata": {},
   "source": [
    "In this part of Project, a set of 10015 **Skin Cancer** images with **RGB** colors is used to develope a Neural Network Model to Classify The Skin Cancer to its Subtypes.\n",
    "\n",
    "In this part of assignment 2 model types with Multi-Class(7 Classes) Output been Developed based on the same Dataset : \n",
    "1. MLP Classification model. \n",
    "2. Keras Classification Model.\n",
    "\n",
    "Outputs\n",
    "*    0: melanocytic nevi (nv)\n",
    "*    1: melanoma (mel)\n",
    "*    2: benign keratosis-like lesions (bkl) \n",
    "*    3: basal cell carcinoma (bcc)\n",
    "*    4: Actinic keratoses and intraepithelial carcinoma / Bowen's disease (akiec)\n",
    "*    5: vascular lesions (vasc).\n",
    "*    6: dermatofibroma (df).\n",
    "<p></p>\n",
    "<p> **more detailes Explained in the Report.</p>"
   ]
  },
  {
   "cell_type": "markdown",
   "id": "thick-shareware",
   "metadata": {},
   "source": [
    "## Data Set Pre-Processing :"
   ]
  },
  {
   "cell_type": "markdown",
   "id": "vital-following",
   "metadata": {},
   "source": [
    "Dataset Downloaded From Kaggle as a csv file contain 28x28 images with their Labels."
   ]
  },
  {
   "cell_type": "code",
   "execution_count": 3,
   "id": "fitted-english",
   "metadata": {},
   "outputs": [],
   "source": [
    "import numpy as np\n",
    "import pandas as pd\n",
    "from sklearn.model_selection import train_test_split\n",
    "import matplotlib.pyplot as plt"
   ]
  },
  {
   "cell_type": "code",
   "execution_count": 66,
   "id": "fiscal-jerusalem",
   "metadata": {},
   "outputs": [],
   "source": [
    "# importing Data into a Dataframe. \n",
    "df=pd.read_csv(\"hmnist_28_28_L.csv\")"
   ]
  },
  {
   "cell_type": "code",
   "execution_count": 67,
   "id": "sexual-brooks",
   "metadata": {},
   "outputs": [],
   "source": [
    "# x ==> image Data , y ==> labels (Classes) \n",
    "x = df.drop([\"label\"],axis=1).copy()\n",
    "y= df[\"label\"].copy()\n"
   ]
  },
  {
   "cell_type": "code",
   "execution_count": 64,
   "id": "facial-small",
   "metadata": {},
   "outputs": [],
   "source": [
    "x=x/255 # normalizing Data"
   ]
  },
  {
   "cell_type": "code",
   "execution_count": 68,
   "id": "senior-apartment",
   "metadata": {},
   "outputs": [
    {
     "name": "stdout",
     "output_type": "stream",
     "text": [
      "(10015, 784)\n"
     ]
    }
   ],
   "source": [
    "# Turning x into numpy Array. \n",
    "# The Shape Required In MLPCLASSIFIRE is (number of Samples , Features(28x28)).\n",
    "x=np.array(x)\n",
    "y=np.array(y)\n",
    "np.save(\"Skin_X\",x) # Saving Datasets .\n",
    "np.save(\"Skin_Y\",y)\n",
    "print(x.shape)"
   ]
  },
  {
   "cell_type": "markdown",
   "id": "fossil-frederick",
   "metadata": {},
   "source": [
    "## 1. MLP CLassification"
   ]
  },
  {
   "cell_type": "markdown",
   "id": "several-filling",
   "metadata": {},
   "source": [
    "### 1.1. Building The Model"
   ]
  },
  {
   "cell_type": "code",
   "execution_count": 5,
   "id": "brutal-mouse",
   "metadata": {},
   "outputs": [],
   "source": [
    "from sklearn.neural_network import MLPClassifier\n",
    "from sklearn.model_selection import train_test_split\n",
    "import sklearn.metrics as metrics \n",
    "import seaborn as sns\n",
    "import numpy as np"
   ]
  },
  {
   "cell_type": "code",
   "execution_count": 6,
   "id": "signed-firmware",
   "metadata": {},
   "outputs": [
    {
     "name": "stdout",
     "output_type": "stream",
     "text": [
      "(10015, 784)\n"
     ]
    }
   ],
   "source": [
    "# loading the Pre-Saved Data. \n",
    "x=np.load(\"Skin_X.npy\")\n",
    "y=np.load(\"Skin_Y.npy\")\n",
    "print(x.shape)"
   ]
  },
  {
   "cell_type": "code",
   "execution_count": 7,
   "id": "applicable-phase",
   "metadata": {},
   "outputs": [],
   "source": [
    "# Splitting Dataset into Training and Testing Subsets: \n",
    "\n",
    "x_train,x_test,y_train,y_test = train_test_split(x,y, test_size=0.3, random_state=1)"
   ]
  },
  {
   "cell_type": "markdown",
   "id": "substantial-collector",
   "metadata": {},
   "source": [
    "**Model Building**"
   ]
  },
  {
   "cell_type": "code",
   "execution_count": null,
   "id": "adjusted-round",
   "metadata": {},
   "outputs": [],
   "source": [
    "# bulding a Classifire Model. \n",
    "mlpc = MLPClassifier(activation=\"relu\",solver=\"adam\", hidden_layer_sizes=(400,400))\n",
    "mlpc.fit(x_train,y_train)\n",
    "\n",
    "print(\"===============================\")\n",
    "print(\"Score : \",mlpc.score(x_test,y_test))\n",
    "print(\"===============================\")"
   ]
  },
  {
   "cell_type": "code",
   "execution_count": 18,
   "id": "divided-andorra",
   "metadata": {
    "scrolled": true
   },
   "outputs": [
    {
     "name": "stdout",
     "output_type": "stream",
     "text": [
      "===============================\n",
      "Score :  0.6502495840266223\n",
      "===============================\n"
     ]
    }
   ],
   "source": []
  },
  {
   "cell_type": "markdown",
   "id": "norman-vulnerability",
   "metadata": {},
   "source": [
    "### 1.2. Grid Search (To choose the best Parameters for the model)"
   ]
  },
  {
   "cell_type": "code",
   "execution_count": 11,
   "id": "related-borough",
   "metadata": {},
   "outputs": [],
   "source": [
    "from sklearn.model_selection import GridSearchCV"
   ]
  },
  {
   "cell_type": "code",
   "execution_count": null,
   "id": "digital-fashion",
   "metadata": {},
   "outputs": [
    {
     "name": "stdout",
     "output_type": "stream",
     "text": [
      "Fitting 3 folds for each of 108 candidates, totalling 324 fits\n"
     ]
    },
    {
     "name": "stderr",
     "output_type": "stream",
     "text": [
      "[Parallel(n_jobs=-1)]: Using backend LokyBackend with 4 concurrent workers.\n"
     ]
    }
   ],
   "source": [
    "# a list of defferent parameters. \n",
    "\n",
    "mlpc_params={\n",
    "             \"activation\":[\"logistic\",\"relu\"],\n",
    "             \"hidden_layer_sizes\":[(300,300),(80,50),(30,50),(400,400)],\n",
    "             \"solver\":[\"adam\",\"sgd\",\"lbfgs\"]}\n",
    "\n",
    "mlpc = MLPClassifier(random_state=1,max_iter=1000) \n",
    "mlpc_multiple=GridSearchCV(mlpc,mlpc_params,cv=3,n_jobs=-1,verbose=2) \n",
    "mlpc_multiple.fit(x_train,y_train)"
   ]
  },
  {
   "cell_type": "code",
   "execution_count": 8,
   "id": "identical-worry",
   "metadata": {},
   "outputs": [
    {
     "ename": "NameError",
     "evalue": "name 'mlpc_multiple' is not defined",
     "output_type": "error",
     "traceback": [
      "\u001b[1;31m---------------------------------------------------------------------------\u001b[0m",
      "\u001b[1;31mNameError\u001b[0m                                 Traceback (most recent call last)",
      "\u001b[1;32m<ipython-input-8-65bca462fa94>\u001b[0m in \u001b[0;36m<module>\u001b[1;34m\u001b[0m\n\u001b[1;32m----> 1\u001b[1;33m \u001b[0mprint\u001b[0m \u001b[1;33m(\u001b[0m\u001b[0mmlpc_multiple\u001b[0m\u001b[1;33m.\u001b[0m\u001b[0mbest_params_\u001b[0m\u001b[1;33m)\u001b[0m \u001b[1;31m# showing the best Parameters\u001b[0m\u001b[1;33m\u001b[0m\u001b[1;33m\u001b[0m\u001b[0m\n\u001b[0m",
      "\u001b[1;31mNameError\u001b[0m: name 'mlpc_multiple' is not defined"
     ]
    }
   ],
   "source": [
    "print (mlpc_multiple.best_params_) # showing the best Parameters"
   ]
  },
  {
   "cell_type": "markdown",
   "id": "baking-pixel",
   "metadata": {},
   "source": [
    "**A New  Model using the Best Parameters**"
   ]
  },
  {
   "cell_type": "code",
   "execution_count": 19,
   "id": "fresh-stationery",
   "metadata": {},
   "outputs": [
    {
     "name": "stdout",
     "output_type": "stream",
     "text": [
      "=======================\n",
      "score: 0.6685524126455907\n",
      "=======================\n"
     ]
    }
   ],
   "source": [
    "mlpc_enhanced = MLPClassifier(activation=\"relu\",hidden_layer_sizes=(80,50), solver=\"adam\")\n",
    "mlpc_enhanced.fit(x_train,y_train)\n",
    "\n",
    "print(\"=======================\")\n",
    "print(\"score:\",mlpc_enhanced.score(x_test,y_test))\n",
    "print(\"=======================\")"
   ]
  },
  {
   "cell_type": "markdown",
   "id": "nominated-sussex",
   "metadata": {},
   "source": [
    "### 1.3. Confusion Matrix and F1 Score"
   ]
  },
  {
   "cell_type": "code",
   "execution_count": 20,
   "id": "consolidated-foster",
   "metadata": {},
   "outputs": [],
   "source": [
    "import matplotlib.pyplot as plt \n",
    "import sklearn.metrics  as metrics\n",
    "import seaborn as sns"
   ]
  },
  {
   "cell_type": "markdown",
   "id": "perfect-moral",
   "metadata": {},
   "source": [
    "**Confusion Matrix :** "
   ]
  },
  {
   "cell_type": "code",
   "execution_count": 21,
   "id": "blond-indianapolis",
   "metadata": {},
   "outputs": [
    {
     "name": "stdout",
     "output_type": "stream",
     "text": [
      "=======================\n",
      "Accuracy:  0.6685524126455907\n",
      "=======================\n"
     ]
    },
    {
     "data": {
      "text/plain": [
       "<AxesSubplot:>"
      ]
     },
     "execution_count": 21,
     "metadata": {},
     "output_type": "execute_result"
    },
    {
     "data": {
      "image/png": "[encoded data removed]",
      "text/plain": [
       "<Figure size 432x288 with 1 Axes>"
      ]
     },
     "metadata": {
      "needs_background": "light"
     },
     "output_type": "display_data"
    }
   ],
   "source": [
    "# predicting Test Data \n",
    "\n",
    "y_pred = mlpc_enhanced.predict(x_test)\n",
    "acc= metrics.accuracy_score(y_test,y_pred)\n",
    "\n",
    "print(\"=======================\")\n",
    "print(\"Accuracy: \", acc)\n",
    "print(\"=======================\")\n",
    "\n",
    "cm= metrics.confusion_matrix(y_test,y_pred)\n",
    "sns.heatmap(cm, annot=True,cbar=False, cmap=\"Blues\",fmt=\"\")"
   ]
  },
  {
   "cell_type": "markdown",
   "id": "dramatic-antibody",
   "metadata": {},
   "source": [
    "#### F1 Score and Classification Report "
   ]
  },
  {
   "cell_type": "markdown",
   "id": "republican-subject",
   "metadata": {},
   "source": [
    "Normally F1 Score is used with 2 Output Classification so it will give and Error when we try to use it here."
   ]
  },
  {
   "cell_type": "code",
   "execution_count": 25,
   "id": "found-clearing",
   "metadata": {},
   "outputs": [
    {
     "name": "stdout",
     "output_type": "stream",
     "text": [
      "==============================\n",
      "Classification Report : \n",
      "               precision    recall  f1-score   support\n",
      "\n",
      "           0       0.00      0.00      0.00        97\n",
      "           1       0.18      0.05      0.08       146\n",
      "           2       0.32      0.04      0.06       335\n",
      "           3       0.11      0.05      0.07        42\n",
      "           4       0.69      0.98      0.81      2007\n",
      "           5       0.00      0.00      0.00        57\n",
      "           6       0.57      0.04      0.07       321\n",
      "\n",
      "    accuracy                           0.67      3005\n",
      "   macro avg       0.27      0.17      0.16      3005\n",
      "weighted avg       0.57      0.67      0.56      3005\n",
      "\n",
      "==============================\n"
     ]
    }
   ],
   "source": [
    "#f1=metrics.f1_score(y_test,y_pred)\n",
    "#print(\"==============================\")\n",
    "#print(\"F1 Score : \", f1)\n",
    "\n",
    "cr= metrics.classification_report(y_test,y_pred) # Classification Report. \n",
    "print(\"==============================\")\n",
    "print(\"Classification Report : \\n\",cr)\n",
    "print(\"==============================\")"
   ]
  },
  {
   "cell_type": "markdown",
   "id": "introductory-syndicate",
   "metadata": {},
   "source": [
    "<hr>"
   ]
  },
  {
   "cell_type": "markdown",
   "id": "cheap-anthropology",
   "metadata": {},
   "source": [
    "### 1.3. K-fold Cross Validation"
   ]
  },
  {
   "cell_type": "code",
   "execution_count": 26,
   "id": "defined-damage",
   "metadata": {},
   "outputs": [],
   "source": [
    "from sklearn.datasets import load_iris\n",
    "from sklearn.neighbors import KNeighborsClassifier\n",
    "from sklearn.model_selection import cross_val_score\n",
    "from sklearn.model_selection import KFold\n",
    "import pandas as pd "
   ]
  },
  {
   "cell_type": "markdown",
   "id": "respiratory-identification",
   "metadata": {},
   "source": [
    "This Will show how to model changes when Dataset Changes in multiple ways."
   ]
  },
  {
   "cell_type": "code",
   "execution_count": 28,
   "id": "japanese-prospect",
   "metadata": {},
   "outputs": [
    {
     "name": "stdout",
     "output_type": "stream",
     "text": [
      "0.6627732854147949\n",
      "0.6437986818454164\n",
      "0.5946674655482325\n",
      "================================\n",
      "Average:  0.6337464776028147\n",
      "================================\n"
     ]
    }
   ],
   "source": [
    "x=(x-np.min(x))/(np.max(x)-np.min(x))\n",
    "Knn = KNeighborsClassifier(n_neighbors=5)\n",
    "\n",
    "scores= cross_val_score(estimator=Knn,X=x, y=y, cv=3)\n",
    "\n",
    "i=1\n",
    "for score in scores:\n",
    "    print(\"The {}. Score: \".format(i)score)\n",
    "    i=i+1\n",
    "\n",
    "\n",
    "print(\"================================\")\n",
    "print(\"Average: \", np.mean(scores))\n",
    "print(\"================================\")"
   ]
  },
  {
   "cell_type": "markdown",
   "id": "incredible-andorra",
   "metadata": {},
   "source": [
    "<hr>"
   ]
  },
  {
   "cell_type": "markdown",
   "id": "banner-discretion",
   "metadata": {},
   "source": [
    "## 2. Keras Classification"
   ]
  },
  {
   "cell_type": "markdown",
   "id": "differential-millennium",
   "metadata": {},
   "source": [
    "### 2.1. Building The model"
   ]
  },
  {
   "cell_type": "markdown",
   "id": "actual-transformation",
   "metadata": {},
   "source": [
    "#### 2.1.1. importing Data"
   ]
  },
  {
   "cell_type": "code",
   "execution_count": 11,
   "id": "sweet-tyler",
   "metadata": {},
   "outputs": [],
   "source": [
    "import numpy as np \n",
    "import matplotlib.pyplot as plt \n",
    "import os \n",
    "import cv2 \n",
    "from sklearn.model_selection import train_test_split"
   ]
  },
  {
   "cell_type": "code",
   "execution_count": 29,
   "id": "swedish-impact",
   "metadata": {},
   "outputs": [
    {
     "name": "stdout",
     "output_type": "stream",
     "text": [
      "(10015, 28, 28, 3)\n"
     ]
    }
   ],
   "source": [
    "# Importing Data stored before. \n",
    "x=np.load(\"SkinRGB_X.npy\")\n",
    "x=x/255\n",
    "y=np.load(\"SkinRGB_Y.npy\")\n",
    "print(x.shape)"
   ]
  },
  {
   "cell_type": "code",
   "execution_count": 30,
   "id": "removable-transition",
   "metadata": {},
   "outputs": [],
   "source": [
    "# Splitting Dataset into Train and test subsets. \n",
    "x_train,x_test,y_train,y_test = train_test_split(x,y,test_size=0.2, random_state=1) # Test group will be 20% of samples\n"
   ]
  },
  {
   "cell_type": "code",
   "execution_count": 31,
   "id": "sharp-vehicle",
   "metadata": {},
   "outputs": [
    {
     "name": "stdout",
     "output_type": "stream",
     "text": [
      "(28, 28, 3)\n",
      "(2003, 28, 28, 3)\n",
      "(2003,)\n"
     ]
    }
   ],
   "source": [
    "# input shape will be used in the model \n",
    "input_shape = x_train.shape[1:]\n",
    "print(input_shape)\n",
    "\n",
    "print(x_test.shape)\n",
    "print(y_test.shape)"
   ]
  },
  {
   "cell_type": "markdown",
   "id": "incident-riding",
   "metadata": {},
   "source": [
    "#### 2.1.2. Building Process"
   ]
  },
  {
   "cell_type": "code",
   "execution_count": 32,
   "id": "recognized-disney",
   "metadata": {},
   "outputs": [],
   "source": [
    "from keras.models import Sequential\n",
    "import tensorflow as tf\n",
    "from keras.layers import Dense, Activation, Conv2D, Dropout , Flatten , MaxPool2D, BatchNormalization"
   ]
  },
  {
   "cell_type": "code",
   "execution_count": 33,
   "id": "accredited-orleans",
   "metadata": {},
   "outputs": [
    {
     "name": "stdout",
     "output_type": "stream",
     "text": [
      "Model: \"functional_1\"\n",
      "_________________________________________________________________\n",
      "Layer (type)                 Output Shape              Param #   \n",
      "=================================================================\n",
      "input (InputLayer)           [(None, 28, 28, 3)]       0         \n",
      "_________________________________________________________________\n",
      "conv1 (Conv2D)               (None, 26, 26, 16)        448       \n",
      "_________________________________________________________________\n",
      "maxpool1 (MaxPooling2D)      (None, 13, 13, 16)        0         \n",
      "_________________________________________________________________\n",
      "conv2 (Conv2D)               (None, 11, 11, 32)        4640      \n",
      "_________________________________________________________________\n",
      "maxpool2 (MaxPooling2D)      (None, 5, 5, 32)          0         \n",
      "_________________________________________________________________\n",
      "conv3 (Conv2D)               (None, 3, 3, 64)          18496     \n",
      "_________________________________________________________________\n",
      "maxpool3 (MaxPooling2D)      (None, 1, 1, 64)          0         \n",
      "_________________________________________________________________\n",
      "avgpool (GlobalAveragePoolin (None, 64)                0         \n",
      "_________________________________________________________________\n",
      "output (Dense)               (None, 7)                 455       \n",
      "=================================================================\n",
      "Total params: 24,039\n",
      "Trainable params: 24,039\n",
      "Non-trainable params: 0\n",
      "_________________________________________________________________\n",
      "None\n"
     ]
    }
   ],
   "source": [
    "inputs = tf.keras.Input(shape=(28, 28, 3), name='input')\n",
    "\n",
    "conv1 = tf.keras.layers.Conv2D(filters=16, kernel_size=3, name='conv1')(inputs)\n",
    "maxpool1 = tf.keras.layers.MaxPooling2D(name='maxpool1')(conv1)\n",
    "\n",
    "conv2 = tf.keras.layers.Conv2D(filters=32, kernel_size=3, name='conv2')(maxpool1)\n",
    "maxpool2 = tf.keras.layers.MaxPooling2D(name='maxpool2')(conv2)\n",
    "\n",
    "conv3 = tf.keras.layers.Conv2D(filters=64, kernel_size=3, name='conv3')(maxpool2)\n",
    "maxpool3 = tf.keras.layers.MaxPooling2D(name='maxpool3')(conv3)\n",
    "\n",
    "avgpool = tf.keras.layers.GlobalAveragePooling2D(name='avgpool')(maxpool3)\n",
    "\n",
    "outputs = tf.keras.layers.Dense(7, activation='softmax', name='output')(avgpool)\n",
    "\n",
    "\n",
    "model = tf.keras.Model(inputs=inputs, outputs=outputs)\n",
    "\n",
    "print(model.summary())"
   ]
  },
  {
   "cell_type": "code",
   "execution_count": 35,
   "id": "employed-auction",
   "metadata": {},
   "outputs": [
    {
     "name": "stdout",
     "output_type": "stream",
     "text": [
      "Epoch 1/5\n",
      "201/201 [==============================] - 2s 11ms/step - loss: 1.0341 - accuracy: 0.6627 - val_loss: 0.9378 - val_accuracy: 0.6812\n",
      "Epoch 2/5\n",
      "201/201 [==============================] - 2s 10ms/step - loss: 0.9246 - accuracy: 0.6770 - val_loss: 0.8835 - val_accuracy: 0.6862\n",
      "Epoch 3/5\n",
      "201/201 [==============================] - 2s 10ms/step - loss: 0.8897 - accuracy: 0.6848 - val_loss: 0.8655 - val_accuracy: 0.6912\n",
      "Epoch 4/5\n",
      "201/201 [==============================] - 2s 10ms/step - loss: 0.8584 - accuracy: 0.6926 - val_loss: 0.8309 - val_accuracy: 0.6987\n",
      "Epoch 5/5\n",
      "201/201 [==============================] - 2s 10ms/step - loss: 0.8175 - accuracy: 0.7059 - val_loss: 0.8145 - val_accuracy: 0.6931\n"
     ]
    }
   ],
   "source": [
    "# Compiling the Model. \n",
    "\n",
    "model.compile(optimizer=\"adam\",loss=\"sparse_categorical_crossentropy\",metrics=[\"accuracy\"])\n",
    "batch_size=32 \n",
    "epochs=5 \n",
    "\n",
    "# fitting Data. \n",
    "\n",
    "my_model= model.fit(x_train,y_train,epochs=5,validation_split=0.2,batch_size=batch_size)"
   ]
  },
  {
   "cell_type": "markdown",
   "id": "collective-cambridge",
   "metadata": {},
   "source": [
    "### 2.2. Evaluation of Keras Model Results "
   ]
  },
  {
   "cell_type": "code",
   "execution_count": 36,
   "id": "diverse-record",
   "metadata": {},
   "outputs": [
    {
     "name": "stdout",
     "output_type": "stream",
     "text": [
      "========================\n",
      "Test Accuracy: 69.795%\n",
      "========================\n"
     ]
    }
   ],
   "source": [
    "model_acc = model.evaluate(x_test, y_test, verbose=0)[1]\n",
    "\n",
    "print(\"========================\")\n",
    "print(\"Test Accuracy: {:.3f}%\".format(model_acc * 100))\n",
    "print(\"========================\")"
   ]
  },
  {
   "cell_type": "code",
   "execution_count": 47,
   "id": "copyrighted-sheet",
   "metadata": {
    "scrolled": true
   },
   "outputs": [
    {
     "data": {
      "image/png": "[encoded data removed]",
      "text/plain": [
       "<Figure size 1080x360 with 2 Axes>"
      ]
     },
     "metadata": {
      "needs_background": "light"
     },
     "output_type": "display_data"
    }
   ],
   "source": [
    "# Plotting Accuracy Values Showing how it changes while Epochs change.\n",
    "\n",
    "acc = my_model.history['accuracy']\n",
    "val_acc = my_model.history['val_accuracy']\n",
    "loss = my_model.history['loss']\n",
    "val_loss = my_model.history['val_loss']\n",
    "#print(\"accuracy : \",acc)\n",
    "#print(\"valalidation accuracy :\", val_acc )\n",
    "#print(\"Loss :\", val_acc )\n",
    "#print(\"valalidation loss :\", val_loss )\n",
    "\n",
    "# Plot Properties : \n",
    "\n",
    "f=plt.figure(figsize=(15,5))\n",
    "# Accuracy plot \n",
    "plt.subplot(1,2,1)\n",
    "plt.plot(acc)\n",
    "plt.plot(val_acc)\n",
    "plt.title('model accuracy')\n",
    "plt.ylabel('accuracy')\n",
    "plt.xlabel('epoch')\n",
    "plt.legend(['train', 'test'], loc='upper left')\n",
    "\n",
    "\n",
    "# Loss plot\n",
    "plt.subplot(1,2,2)\n",
    "plt.plot(loss)\n",
    "plt.plot(val_loss)\n",
    "plt.title('model loss')\n",
    "plt.ylabel('loss')\n",
    "plt.xlabel('epoch')\n",
    "plt.legend(['train', 'test'], loc='upper left')\n",
    "plt.show()"
   ]
  },
  {
   "cell_type": "code",
   "execution_count": null,
   "id": "automated-adolescent",
   "metadata": {},
   "outputs": [],
   "source": []
  }
 ],
 "metadata": {
  "kernelspec": {
   "display_name": "Python 3",
   "language": "python",
   "name": "python3"
  },
  "language_info": {
   "codemirror_mode": {
    "name": "ipython",
    "version": 3
   },
   "file_extension": ".py",
   "mimetype": "text/x-python",
   "name": "python",
   "nbconvert_exporter": "python",
   "pygments_lexer": "ipython3",
   "version": "3.7.9"
  }
 },
 "nbformat": 4,
 "nbformat_minor": 5
}
