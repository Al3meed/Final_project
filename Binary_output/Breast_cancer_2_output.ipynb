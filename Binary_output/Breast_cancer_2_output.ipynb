{
 "cells": [
  {
   "cell_type": "markdown",
   "id": "recent-prototype",
   "metadata": {},
   "source": [
    "# Breast Cancer Detection usind Images Dataset "
   ]
  },
  {
   "cell_type": "markdown",
   "id": "instructional-siemens",
   "metadata": {},
   "source": [
    "## Introduction"
   ]
  },
  {
   "cell_type": "markdown",
   "id": "international-rabbit",
   "metadata": {},
   "source": [
    "In this Project, a set of 572 **Pathological slices** images of Breast Cancer taken by a Microscope in **RGB** colors is used to develope a Neural Network Model to Detect the Brest Cancer.\n",
    "\n",
    "In this assignment 2 model types with Binary(Cancer,Normal) Output been Developed based on the same Dataset : \n",
    "1. MLP Classification model. \n",
    "2. Keras Classification Model.\n",
    "\n",
    "outputs : \n",
    "(0) for Normal.\n",
    "(1) for Cancer.\n",
    "<p> **more detailes Explained in the Report.</p>"
   ]
  },
  {
   "cell_type": "markdown",
   "id": "concrete-money",
   "metadata": {},
   "source": [
    "## Data Set Pre-Processing :"
   ]
  },
  {
   "cell_type": "code",
   "execution_count": 1,
   "id": "extraordinary-vegetarian",
   "metadata": {},
   "outputs": [],
   "source": [
    "import numpy as np \n",
    "import os \n",
    "import cv2 "
   ]
  },
  {
   "cell_type": "code",
   "execution_count": 127,
   "id": "allied-verification",
   "metadata": {},
   "outputs": [
    {
     "name": "stdout",
     "output_type": "stream",
     "text": [
      "Dataset length:  572 images.\n"
     ]
    }
   ],
   "source": [
    "imgDir = \"F:/CancerImages/New_Cancer/\" # Data Location in my PC\n",
    "Categories = [\"Normal\",\"Cancer\"]   # 2 Classes (Categories)\n",
    "\n",
    "training_data = []  \n",
    "\n",
    "#This Function imports images from subfolders and resize it into 50x50 RGB images, and save it as numerical Arrays.\n",
    "def Create_training_data() : \n",
    "    for category in Categories :\n",
    "        class_num=Categories.index(category) # Classification will be 0 and 1 instead of Cancer and Normal. \n",
    "        path = os.path.join(imgDir,category)\n",
    "        for img in os.listdir(path):\n",
    "            img_Array= cv2.imread(os.path.join(path,img)) # importing images in RGB channel.  \n",
    "            #new_Array = cv2.resize(img_Array,(50,50)) # since all the images are already 50x50 there is no need to that.\n",
    "            training_data.append([img_Array , class_num])\n",
    "\n",
    "    \n",
    "Create_training_data()\n",
    "print(\"Dataset length: \",len(training_data), \"images.\")"
   ]
  },
  {
   "cell_type": "markdown",
   "id": "suspected-heater",
   "metadata": {},
   "source": [
    "**Next Step will be about mixing All data Randomly then Storing them into .NPY Files to use it Later.**"
   ]
  },
  {
   "cell_type": "code",
   "execution_count": 128,
   "id": "large-mobility",
   "metadata": {},
   "outputs": [],
   "source": [
    "import random \n",
    "random.shuffle(training_data) # this mix all Data Randomly to avoid Overfitting .\n",
    "\n",
    "x=[]\n",
    "y=[]\n",
    "for features,label in training_data:    # Features is the image values , Label is the Category(0 and 1)\n",
    "    x.append(features)\n",
    "    y.append(label)"
   ]
  },
  {
   "cell_type": "code",
   "execution_count": 129,
   "id": "above-dryer",
   "metadata": {},
   "outputs": [
    {
     "name": "stdout",
     "output_type": "stream",
     "text": [
      "(572, 50, 50, 3)\n",
      "(572,)\n"
     ]
    }
   ],
   "source": [
    "# Converting Arrays to numpy arrays and saving it as NPY files. \n",
    "\n",
    "x=np.array(x)\n",
    "y=np.array(y)\n",
    "\n",
    "print(x.shape)\n",
    "print(y.shape)\n",
    "np.save(\"BC_X\",x) # Images Data.\n",
    "np.save(\"BC_Y\",y) # Categories (Targets)."
   ]
  },
  {
   "cell_type": "markdown",
   "id": "relative-chile",
   "metadata": {},
   "source": [
    "**The data is Ready to be used in the Classification models**"
   ]
  },
  {
   "cell_type": "markdown",
   "id": "deluxe-prototype",
   "metadata": {},
   "source": [
    "## 1. MLP Classification "
   ]
  },
  {
   "cell_type": "markdown",
   "id": "supported-senior",
   "metadata": {},
   "source": [
    "### 1.1. Building The Model"
   ]
  },
  {
   "cell_type": "code",
   "execution_count": 16,
   "id": "lyric-pastor",
   "metadata": {},
   "outputs": [],
   "source": [
    "import numpy as np \n",
    "from sklearn.model_selection import train_test_split\n",
    "from sklearn.neural_network import MLPClassifier\n",
    "import sklearn.metrics as metrics \n",
    "import seaborn as sns"
   ]
  },
  {
   "cell_type": "code",
   "execution_count": 130,
   "id": "catholic-atmosphere",
   "metadata": {},
   "outputs": [
    {
     "name": "stdout",
     "output_type": "stream",
     "text": [
      "(572, 7500)\n",
      "(572,)\n"
     ]
    }
   ],
   "source": [
    "x=np.load(\"BC_X.npy\") # Images Data stored before. \n",
    "y=np.load(\"BC_Y.npy\")\n",
    "\n",
    "n_images, nx,ny,nz = x.shape \n",
    "\n",
    "x=x.reshape(n_images, nx*ny*nz)/255 # Reshaping arrays to be fitted into MLP Classifire. (deviding by 255 for normalization)\n",
    "print(x.shape)\n",
    "print(y.shape)"
   ]
  },
  {
   "cell_type": "code",
   "execution_count": 41,
   "id": "human-oxygen",
   "metadata": {},
   "outputs": [],
   "source": [
    "# Splitting The Dataset into Training and  Testing Subsets. \n",
    "x_train,x_test,y_train,y_test = train_test_split(x,y,test_size=0.30,random_state=1)"
   ]
  },
  {
   "cell_type": "code",
   "execution_count": 107,
   "id": "creative-chase",
   "metadata": {},
   "outputs": [
    {
     "name": "stdout",
     "output_type": "stream",
     "text": [
      "score: 0.5930232558139535\n"
     ]
    }
   ],
   "source": [
    "# Creating MLP model with a hidden layer size 80x50 \n",
    "\n",
    "mlpc = MLPClassifier( random_state=1, solver=\"adam\", activation=\"relu\",hidden_layer_sizes=(80,50),max_iter=1000)\n",
    "mlpc.fit(x_train,y_train)\n",
    "print(\"score:\", mlpc.score(x_test,y_test))"
   ]
  },
  {
   "cell_type": "code",
   "execution_count": 109,
   "id": "plain-garlic",
   "metadata": {},
   "outputs": [
    {
     "name": "stdout",
     "output_type": "stream",
     "text": [
      "==============================\n",
      "Accuracy:  0.5930232558139535\n",
      "==============================\n"
     ]
    },
    {
     "data": {
      "text/plain": [
       "<AxesSubplot:>"
      ]
     },
     "execution_count": 109,
     "metadata": {},
     "output_type": "execute_result"
    },
    {
     "data": {
      "image/png": "[encoded data removed]",
      "text/plain": [
       "<Figure size 432x288 with 1 Axes>"
      ]
     },
     "metadata": {
      "needs_background": "light"
     },
     "output_type": "display_data"
    }
   ],
   "source": [
    "y_pred = mlpc.predict(x_test)\n",
    "acc= metrics.accuracy_score(y_test,y_pred)\n",
    "\n",
    "print(\"==============================\")\n",
    "print(\"Accuracy: \", acc)\n",
    "print(\"==============================\")\n",
    "\n",
    "cm= metrics.confusion_matrix(y_test,y_pred)\n",
    "\n",
    "sns.heatmap(cm, annot=True,cbar=False, cmap=\"Blues\",fmt=\"\")"
   ]
  },
  {
   "cell_type": "markdown",
   "id": "enabling-nerve",
   "metadata": {},
   "source": [
    "### 1.2. Grid Search (To choose the best Parameters for the model)"
   ]
  },
  {
   "cell_type": "code",
   "execution_count": 50,
   "id": "second-liver",
   "metadata": {},
   "outputs": [],
   "source": [
    "from sklearn.model_selection import GridSearchCV"
   ]
  },
  {
   "cell_type": "code",
   "execution_count": 94,
   "id": "finite-testing",
   "metadata": {},
   "outputs": [
    {
     "name": "stdout",
     "output_type": "stream",
     "text": [
      "Fitting 3 folds for each of 12 candidates, totalling 36 fits\n"
     ]
    },
    {
     "name": "stderr",
     "output_type": "stream",
     "text": [
      "[Parallel(n_jobs=-1)]: Using backend LokyBackend with 4 concurrent workers.\n",
      "[Parallel(n_jobs=-1)]: Done  36 out of  36 | elapsed:  9.4min finished\n"
     ]
    },
    {
     "data": {
      "text/plain": [
       "GridSearchCV(cv=3, estimator=MLPClassifier(max_iter=1000, random_state=1),\n",
       "             n_jobs=-1,\n",
       "             param_grid={'activation': ['relu', 'tanh'],\n",
       "                         'hidden_layer_sizes': [(50, 80), (80, 50), (100,)],\n",
       "                         'solver': ['adam', 'sgd']},\n",
       "             verbose=2)"
      ]
     },
     "execution_count": 94,
     "metadata": {},
     "output_type": "execute_result"
    }
   ],
   "source": [
    "# a list of defferent parameters. \n",
    "\n",
    "\n",
    "mlpc_params={\n",
    "             \"activation\":[\"relu\",\"tanh\"],\n",
    "             \"hidden_layer_sizes\":[(50,80),(80,50),(100,)],\n",
    "             \"solver\":[\"adam\",\"sgd\"]}\n",
    "\n",
    "mlpc = MLPClassifier(random_state=1,max_iter=1000) # Max iteration commmand used Because on 200 iterations my PC gives error\n",
    "mlpc_multiple=GridSearchCV(mlpc,mlpc_params,cv=3,n_jobs=-1,verbose=2) \n",
    "mlpc_multiple.fit(x_train,y_train)"
   ]
  },
  {
   "cell_type": "code",
   "execution_count": 96,
   "id": "golden-lesbian",
   "metadata": {
    "scrolled": false
   },
   "outputs": [
    {
     "name": "stdout",
     "output_type": "stream",
     "text": [
      "Best Parameters :  {'activation': 'tanh', 'hidden_layer_sizes': (80, 50), 'solver': 'sgd'}\n"
     ]
    }
   ],
   "source": [
    "print (\"Best Parameters : \",mlpc_multiple.best_params_) # showing the best Parameters"
   ]
  },
  {
   "cell_type": "markdown",
   "id": "greek-dover",
   "metadata": {},
   "source": [
    "**New Model using best parameters :**"
   ]
  },
  {
   "cell_type": "code",
   "execution_count": 108,
   "id": "structured-delhi",
   "metadata": {
    "scrolled": true
   },
   "outputs": [
    {
     "name": "stdout",
     "output_type": "stream",
     "text": [
      "==============================\n",
      "score: 0.627906976744186\n",
      "==============================\n"
     ]
    }
   ],
   "source": [
    "mlpc_enhanced = MLPClassifier(random_state=1,activation=\"relu\",hidden_layer_sizes=(80,50), solver=\"sgd\",max_iter=1000)\n",
    "mlpc_enhanced.fit(x_train,y_train)\n",
    "\n",
    "\n",
    "print(\"==============================\")\n",
    "print(\"score:\",mlpc_enhanced.score(x_test,y_test))\n",
    "print(\"==============================\")"
   ]
  },
  {
   "cell_type": "markdown",
   "id": "treated-reggae",
   "metadata": {},
   "source": [
    "Score increased to 62%"
   ]
  },
  {
   "cell_type": "markdown",
   "id": "formed-pizza",
   "metadata": {},
   "source": [
    "### 1.3. Confusion Matrix and F1 Score"
   ]
  },
  {
   "cell_type": "code",
   "execution_count": 60,
   "id": "sustainable-competition",
   "metadata": {},
   "outputs": [],
   "source": [
    "import matplotlib.pyplot as plt \n",
    "import sklearn.metrics  as metrics\n",
    "import seaborn as sns"
   ]
  },
  {
   "cell_type": "markdown",
   "id": "dental-central",
   "metadata": {},
   "source": [
    "**Confusion matrix :**"
   ]
  },
  {
   "cell_type": "code",
   "execution_count": 110,
   "id": "varying-union",
   "metadata": {
    "scrolled": false
   },
   "outputs": [
    {
     "name": "stdout",
     "output_type": "stream",
     "text": [
      "==============================\n",
      "Accuracy:  0.627906976744186\n",
      "==============================\n"
     ]
    },
    {
     "data": {
      "text/plain": [
       "<AxesSubplot:>"
      ]
     },
     "execution_count": 110,
     "metadata": {},
     "output_type": "execute_result"
    },
    {
     "data": {
      "image/png": "[encoded data removed]",
      "text/plain": [
       "<Figure size 432x288 with 1 Axes>"
      ]
     },
     "metadata": {
      "needs_background": "light"
     },
     "output_type": "display_data"
    }
   ],
   "source": [
    "# predicting Test Data \n",
    "\n",
    "y_pred = mlpc_enhanced.predict(x_test)\n",
    "acc= metrics.accuracy_score(y_test,y_pred)\n",
    "\n",
    "print(\"==============================\")\n",
    "print(\"Accuracy: \", acc)\n",
    "print(\"==============================\")\n",
    "\n",
    "cm= metrics.confusion_matrix(y_test,y_pred)\n",
    "#print(cm)\n",
    "y_class=[\"positive\", \"negative\"]\n",
    "x_class=[\"True\",\"False\"]\n",
    "sns.heatmap(cm, annot=True,cbar=False, cmap=\"Blues\",fmt=\"\",xticklabels=x_class,yticklabels=y_class)\n"
   ]
  },
  {
   "cell_type": "markdown",
   "id": "professional-requirement",
   "metadata": {},
   "source": [
    "**F1 Score, and Classification Report :**"
   ]
  },
  {
   "cell_type": "code",
   "execution_count": 111,
   "id": "weekly-transformation",
   "metadata": {
    "scrolled": true
   },
   "outputs": [
    {
     "name": "stdout",
     "output_type": "stream",
     "text": [
      "==============================\n",
      "F1 Score :  0.5733333333333334\n",
      "==============================\n",
      "Classification Report : \n",
      "               precision    recall  f1-score   support\n",
      "\n",
      "           0       0.61      0.74      0.67        88\n",
      "           1       0.65      0.51      0.57        84\n",
      "\n",
      "    accuracy                           0.63       172\n",
      "   macro avg       0.63      0.63      0.62       172\n",
      "weighted avg       0.63      0.63      0.62       172\n",
      "\n",
      "==============================\n"
     ]
    }
   ],
   "source": [
    "f1=metrics.f1_score(y_test,y_pred)\n",
    "cr= metrics.classification_report(y_test,y_pred) # Classification Report. \n",
    "print(\"==============================\")\n",
    "print(\"F1 Score : \", f1)\n",
    "print(\"==============================\")\n",
    "print(\"Classification Report : \\n\",cr)\n",
    "print(\"==============================\")"
   ]
  },
  {
   "cell_type": "markdown",
   "id": "acute-brother",
   "metadata": {},
   "source": [
    "<hr>"
   ]
  },
  {
   "cell_type": "markdown",
   "id": "nuclear-wednesday",
   "metadata": {},
   "source": [
    "### 1.4. AUC AND ROC "
   ]
  },
  {
   "cell_type": "code",
   "execution_count": 112,
   "id": "utility-seller",
   "metadata": {},
   "outputs": [],
   "source": [
    "# Calculating ROC and AUC \n",
    "\n",
    "probs=mlpc_enhanced.predict_proba(x_test)\n",
    "\n",
    "probs=probs[:,1]\n",
    "fpr,tpr,threshold=metrics.roc_curve(y_test,y_pred)\n",
    "auc_value =metrics.auc(fpr,tpr)"
   ]
  },
  {
   "cell_type": "code",
   "execution_count": 113,
   "id": "secondary-howard",
   "metadata": {},
   "outputs": [
    {
     "data": {
      "image/png": "[encoded data removed]",
      "text/plain": [
       "<Figure size 432x288 with 1 Axes>"
      ]
     },
     "metadata": {
      "needs_background": "light"
     },
     "output_type": "display_data"
    }
   ],
   "source": [
    "# Plotting Curves : \n",
    "\n",
    "plt.title(\"ROC\")\n",
    "plt.plot(fpr,tpr,label=\"AUC\" + str(round(auc_value,2)),color=\"red\" )\n",
    "plt.plot([0,1],[0,1],color=\"blue\",lw=2,linestyle=\"--\")\n",
    "plt.legend(loc=\"lower right\")\n",
    "plt.xlabel(\"FPR\")\n",
    "plt.ylabel(\"TPR\")\n",
    "plt.show()"
   ]
  },
  {
   "cell_type": "markdown",
   "id": "toxic-rouge",
   "metadata": {},
   "source": [
    "### 4.5. K-Fold Cross Validation"
   ]
  },
  {
   "cell_type": "code",
   "execution_count": 114,
   "id": "clear-diary",
   "metadata": {},
   "outputs": [],
   "source": [
    "from sklearn.datasets import load_iris\n",
    "from sklearn.neighbors import KNeighborsClassifier\n",
    "from sklearn.model_selection import cross_val_score\n",
    "from sklearn.model_selection import KFold\n",
    "import pandas as pd "
   ]
  },
  {
   "cell_type": "code",
   "execution_count": 79,
   "id": "nearby-universe",
   "metadata": {
    "scrolled": true
   },
   "outputs": [
    {
     "name": "stdout",
     "output_type": "stream",
     "text": [
      "the 1. Score : 0.5287958115183246\n",
      "the 2. Score : 0.5340314136125655\n",
      "the 3. Score : 0.5157894736842106\n",
      "Average:  0.5262055662717001\n"
     ]
    }
   ],
   "source": [
    "# This Can show how can model result changes when the dataset changes. \n",
    "\n",
    "Knn = KNeighborsClassifier(n_neighbors=5)\n",
    "\n",
    "scores= cross_val_score(estimator=Knn,X=x, y=y, cv=3)\n",
    "i=1 \n",
    "for score in scores:\n",
    "    print(\"the {}. Score :\".format(i),score)\n",
    "    i=i+1 \n",
    "\n",
    "print(\"Average: \", np.mean(scores))"
   ]
  },
  {
   "cell_type": "markdown",
   "id": "critical-channel",
   "metadata": {},
   "source": [
    "<hr>"
   ]
  },
  {
   "cell_type": "markdown",
   "id": "valued-marathon",
   "metadata": {},
   "source": [
    "### Result Conclusion"
   ]
  },
  {
   "cell_type": "markdown",
   "id": "promotional-survivor",
   "metadata": {},
   "source": [
    "In first model a random Parameters were chosen to train the model has reached an accuracy of about 59 %, after that GridSearchCV Function used to choose the best parameters between 36 fits, the process took about 10 minutes to apply all of 36 Combinations. After that there were a new Good parameters, when they used to make an enhanced model they resulted accuracy about 62 %, it is relative good accuracy.\n",
    "\n",
    "By looking to the Confusion matrix we Realize the there is a relative high (False Negative) rate, it is cause by the dataset. And finally, in Medical Field, a model in this Accuracy can't be used because it has a relative low Accuracy or be used in medical Field. This model can be enhanced by using Larger Dataset with much details. "
   ]
  },
  {
   "cell_type": "markdown",
   "id": "infinite-argument",
   "metadata": {},
   "source": [
    "<hr>"
   ]
  },
  {
   "cell_type": "markdown",
   "id": "promising-charity",
   "metadata": {},
   "source": [
    "## 2. Keras Classifire "
   ]
  },
  {
   "cell_type": "markdown",
   "id": "vanilla-basics",
   "metadata": {},
   "source": [
    "### 2.1. Building The model"
   ]
  },
  {
   "cell_type": "markdown",
   "id": "european-essex",
   "metadata": {},
   "source": [
    "#### 2.1.1. Importing Data"
   ]
  },
  {
   "cell_type": "code",
   "execution_count": 121,
   "id": "retained-donor",
   "metadata": {},
   "outputs": [],
   "source": [
    "import numpy as np \n",
    "import matplotlib.pyplot as plt \n",
    "import os \n",
    "import cv2 \n",
    "from sklearn.model_selection import train_test_split"
   ]
  },
  {
   "cell_type": "code",
   "execution_count": 128,
   "id": "reverse-float",
   "metadata": {},
   "outputs": [],
   "source": []
  },
  {
   "cell_type": "code",
   "execution_count": 150,
   "id": "behind-outline",
   "metadata": {
    "scrolled": true
   },
   "outputs": [
    {
     "name": "stdout",
     "output_type": "stream",
     "text": [
      "(572, 50, 50, 3)\n",
      "(572,)\n"
     ]
    }
   ],
   "source": [
    "# Loading .NPY Files.  \n",
    "x=np.load(\"BC_X.npy\")\n",
    "y=np.load(\"BC_Y.npy\")\n",
    "#x=x/255                 # Normalized RGB.\n",
    "print(x.shape)\n",
    "print(y.shape)"
   ]
  },
  {
   "cell_type": "code",
   "execution_count": 151,
   "id": "cultural-pathology",
   "metadata": {},
   "outputs": [],
   "source": [
    "# Splitting Dataset into Train and test subsets. \n",
    "x_train,x_test,y_train,y_test = train_test_split(x,y,test_size=0.2, random_state=1) # Test group will be 20% of samples"
   ]
  },
  {
   "cell_type": "code",
   "execution_count": 152,
   "id": "current-guess",
   "metadata": {},
   "outputs": [
    {
     "name": "stdout",
     "output_type": "stream",
     "text": [
      "(50, 50, 3)\n",
      "(115, 50, 50, 3)\n",
      "(115,)\n"
     ]
    }
   ],
   "source": [
    "# input shape will be used in the model \n",
    "input_shape = x_train.shape[1:]\n",
    "print(input_shape)\n",
    "\n",
    "print(x_test.shape)\n",
    "print(y_test.shape)"
   ]
  },
  {
   "cell_type": "markdown",
   "id": "small-mountain",
   "metadata": {},
   "source": [
    "#### 2.1.2. Building Process"
   ]
  },
  {
   "cell_type": "code",
   "execution_count": 153,
   "id": "accessory-albert",
   "metadata": {},
   "outputs": [],
   "source": [
    "from keras.models import Sequential\n",
    "from keras.layers import Dense, Activation, Conv2D, Dropout , Flatten , MaxPool2D, BatchNormalization"
   ]
  },
  {
   "cell_type": "code",
   "execution_count": 217,
   "id": "split-creator",
   "metadata": {},
   "outputs": [],
   "source": [
    "# Adding Parameters to the model. \n",
    "model = Sequential()\n",
    "model.add(Conv2D(16, kernel_size=3, activation=\"relu\", padding=\"Same\", input_shape=input_shape))\n",
    "model.add(BatchNormalization())\n",
    "model.add(MaxPool2D(pool_size=(2,2)))\n",
    "\n",
    "\n",
    "model.add(Conv2D(32, kernel_size=3, activation=\"relu\", padding=\"Same\"))\n",
    "model.add(BatchNormalization())\n",
    "model.add(MaxPool2D(pool_size=(2,2)))\n",
    "\n",
    "\n",
    "model.add(Conv2D(64, kernel_size=3, activation=\"relu\", padding=\"Same\"))\n",
    "model.add(BatchNormalization())\n",
    "model.add(MaxPool2D(pool_size=(2,2)))\n",
    "\n",
    "\n",
    "model.add(Conv2D(128, kernel_size=3, activation=\"relu\", padding=\"Same\"))\n",
    "model.add(BatchNormalization())\n",
    "model.add(MaxPool2D(pool_size=(2,2)))\n",
    "\n",
    "\n",
    "model.add(Conv2D(256, kernel_size=3, activation=\"relu\", padding=\"Same\"))\n",
    "model.add(BatchNormalization())\n",
    "model.add(MaxPool2D(pool_size=(2,2)))\n",
    "model.add(Dropout(0.25))\n",
    "\n",
    "model.add(Flatten())\n",
    "model.add(Dense(256,activation=\"relu\"))\n",
    "model.add(Dense(2,activation=\"softmax\"))"
   ]
  },
  {
   "cell_type": "code",
   "execution_count": 226,
   "id": "according-satin",
   "metadata": {},
   "outputs": [
    {
     "name": "stdout",
     "output_type": "stream",
     "text": [
      "Epoch 1/10\n",
      "15/15 [==============================] - 2s 120ms/step - loss: 0.3446 - accuracy: 0.8731 - val_loss: 1.4735 - val_accuracy: 0.5913\n",
      "Epoch 2/10\n",
      "15/15 [==============================] - 2s 107ms/step - loss: 0.3945 - accuracy: 0.8425 - val_loss: 0.8998 - val_accuracy: 0.7217\n",
      "Epoch 3/10\n",
      "15/15 [==============================] - 2s 107ms/step - loss: 0.2037 - accuracy: 0.9190 - val_loss: 1.6135 - val_accuracy: 0.5391\n",
      "Epoch 4/10\n",
      "15/15 [==============================] - 2s 107ms/step - loss: 0.1415 - accuracy: 0.9365 - val_loss: 0.8559 - val_accuracy: 0.6870\n",
      "Epoch 5/10\n",
      "15/15 [==============================] - 2s 113ms/step - loss: 0.0710 - accuracy: 0.9825 - val_loss: 2.1722 - val_accuracy: 0.5739\n",
      "Epoch 6/10\n",
      "15/15 [==============================] - 2s 109ms/step - loss: 0.0865 - accuracy: 0.9672 - val_loss: 0.8486 - val_accuracy: 0.6435\n",
      "Epoch 7/10\n",
      "15/15 [==============================] - 2s 110ms/step - loss: 0.0541 - accuracy: 0.9781 - val_loss: 1.0304 - val_accuracy: 0.7130\n",
      "Epoch 8/10\n",
      "15/15 [==============================] - 2s 107ms/step - loss: 0.0604 - accuracy: 0.9803 - val_loss: 1.9500 - val_accuracy: 0.6696\n",
      "Epoch 9/10\n",
      "15/15 [==============================] - 2s 108ms/step - loss: 0.0851 - accuracy: 0.9737 - val_loss: 2.1221 - val_accuracy: 0.6000\n",
      "Epoch 10/10\n",
      "15/15 [==============================] - 2s 108ms/step - loss: 0.0835 - accuracy: 0.9737 - val_loss: 0.6702 - val_accuracy: 0.8174\n"
     ]
    }
   ],
   "source": [
    "# Compiling the Model. \n",
    "\n",
    "model.compile(optimizer=\"adam\",loss=\"binary_crossentropy\",metrics=[\"accuracy\"])\n",
    "\n",
    "# fitting Data. \n",
    "\n",
    "my_model= model.fit(x_train,y_train,epochs=10,validation_data=(x_test,y_test))"
   ]
  },
  {
   "cell_type": "markdown",
   "id": "correct-wealth",
   "metadata": {},
   "source": [
    "### 2.2. Evaluation of Keras Model Results "
   ]
  },
  {
   "cell_type": "code",
   "execution_count": 227,
   "id": "musical-importance",
   "metadata": {},
   "outputs": [],
   "source": [
    "import sklearn.metrics as metrics"
   ]
  },
  {
   "cell_type": "code",
   "execution_count": 228,
   "id": "dutch-exercise",
   "metadata": {},
   "outputs": [
    {
     "data": {
      "image/png": "[encoded data removed]",
      "text/plain": [
       "<Figure size 432x288 with 1 Axes>"
      ]
     },
     "metadata": {
      "needs_background": "light"
     },
     "output_type": "display_data"
    },
    {
     "data": {
      "image/png": "[encoded data removed]",
      "text/plain": [
       "<Figure size 432x288 with 1 Axes>"
      ]
     },
     "metadata": {
      "needs_background": "light"
     },
     "output_type": "display_data"
    }
   ],
   "source": [
    "# Plotting Accuracy Values Showing how it changes while Epochs change.\n",
    "\n",
    "acc = my_model.history['accuracy']\n",
    "val_acc = my_model.history['val_accuracy']\n",
    "loss = my_model.history['loss']\n",
    "val_loss = my_model.history['val_loss']\n",
    "#print(\"accuracy : \",acc)\n",
    "#print(\"valalidation accuracy :\", val_acc )\n",
    "#print(\"Loss :\", val_acc )\n",
    "#print(\"valalidation loss :\", val_loss )\n",
    "\n",
    "# Plot Properties : \n",
    "\n",
    "# Accuracy plot \n",
    "plt.plot(acc)\n",
    "plt.plot(val_acc)\n",
    "plt.title('model accuracy')\n",
    "plt.ylabel('accuracy')\n",
    "plt.xlabel('epoch')\n",
    "plt.legend(['train', 'test'], loc='upper left')\n",
    "plt.show()\n",
    "# Loss plot\n",
    "plt.plot(loss)\n",
    "plt.plot(val_loss)\n",
    "plt.title('model loss')\n",
    "plt.ylabel('loss')\n",
    "plt.xlabel('epoch')\n",
    "plt.legend(['train', 'test'], loc='upper left')\n",
    "plt.show()"
   ]
  },
  {
   "cell_type": "code",
   "execution_count": 229,
   "id": "buried-galaxy",
   "metadata": {},
   "outputs": [
    {
     "data": {
      "text/plain": [
       "<AxesSubplot:>"
      ]
     },
     "execution_count": 229,
     "metadata": {},
     "output_type": "execute_result"
    },
    {
     "data": {
      "image/png": "[encoded data removed]",
      "text/plain": [
       "<Figure size 432x288 with 1 Axes>"
      ]
     },
     "metadata": {
      "needs_background": "light"
     },
     "output_type": "display_data"
    }
   ],
   "source": [
    "y_pred=model.predict(x_test)\n",
    "cm = metrics.confusion_matrix(y_test,y_pred.round())\n",
    "sns.heatmap(cm,annot=True, cbar=False , fmt=\"\", cmap=\"Blues\")"
   ]
  },
  {
   "cell_type": "markdown",
   "id": "married-madagascar",
   "metadata": {},
   "source": [
    "<hr>"
   ]
  },
  {
   "cell_type": "markdown",
   "id": "convinced-option",
   "metadata": {},
   "source": [
    "### 2.3. Results and Conclusion"
   ]
  },
  {
   "cell_type": "markdown",
   "id": "imposed-jenny",
   "metadata": {},
   "source": [
    "The Developed Keras Classification model achieved a good accuracy about 81% , that is relative acceptable result, but it must be improved by trying to re-Organize the Dataset and changing the Model Structure. , by using a larger Dataset, Accuracy can go up to 98% or 99% and that is suitable to be used in medical field."
   ]
  }
 ],
 "metadata": {
  "kernelspec": {
   "display_name": "Python 3",
   "language": "python",
   "name": "python3"
  },
  "language_info": {
   "codemirror_mode": {
    "name": "ipython",
    "version": 3
   },
   "file_extension": ".py",
   "mimetype": "text/x-python",
   "name": "python",
   "nbconvert_exporter": "python",
   "pygments_lexer": "ipython3",
   "version": "3.7.9"
  }
 },
 "nbformat": 4,
 "nbformat_minor": 5
}
